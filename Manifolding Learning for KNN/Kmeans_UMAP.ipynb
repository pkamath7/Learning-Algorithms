{
 "cells": [
  {
   "cell_type": "markdown",
   "id": "cd37a741",
   "metadata": {},
   "source": [
    "**Name: Prasad Madhava Kamath, PID: A59005368**"
   ]
  },
  {
   "cell_type": "code",
   "execution_count": 43,
   "id": "f9ac63aa",
   "metadata": {},
   "outputs": [],
   "source": [
    "# -*- coding: utf-8 -*-\n",
    "\"\"\"\n",
    "Created on Sat Jan 22 14:29:45 2022\n",
    "\n",
    "@author: prasad kamath\n",
    "\"\"\"\n",
    "\n",
    "import numpy as np;\n",
    "import sklearn;\n",
    "import sklearn.datasets as datasets\n",
    "from sklearn.model_selection import train_test_split\n",
    "import tensorflow as tf\n",
    "from  sklearn.metrics import accuracy_score\n",
    "from sklearn.neighbors import KNeighborsClassifier\n",
    "import matplotlib.pyplot as plt\n",
    "from sklearn.cluster import KMeans\n",
    "from sklearn.metrics.pairwise import euclidean_distances\n",
    "from sklearn import metrics\n",
    "import umap"
   ]
  },
  {
   "cell_type": "code",
   "execution_count": 44,
   "id": "f58467fc",
   "metadata": {},
   "outputs": [],
   "source": [
    "#load MNIST dataset\n",
    "(x_train, y_train), (x_test, y_test)=tf.keras.datasets.mnist.load_data(path=\"mnist.npz\")\n",
    "\n",
    "#get size of data set\n",
    "#get size of each input image\n",
    "xtrain_sz,m_x,n_x= x_train.shape\n",
    "xtest_sz,m_xtest,n_xtest=x_test.shape\n",
    "ytrain_sz= y_train.shape[0]\n"
   ]
  },
  {
   "cell_type": "code",
   "execution_count": 45,
   "id": "2cb485c9",
   "metadata": {},
   "outputs": [],
   "source": [
    "#create 1 NN classifier\n",
    "knn =KNeighborsClassifier(n_neighbors=1)"
   ]
  },
  {
   "cell_type": "markdown",
   "id": "c73ecea4",
   "metadata": {},
   "source": [
    "<font size=\"5\">**1- Nearest Neighbor with 60000 prototypes**<font>"
   ]
  },
  {
   "cell_type": "code",
   "execution_count": 46,
   "id": "ad3b36cc",
   "metadata": {},
   "outputs": [
    {
     "name": "stdout",
     "output_type": "stream",
     "text": [
      "Test accuracy for 60000 prototypes: 96.91%\n"
     ]
    }
   ],
   "source": [
    "#train the classifier to fit the data \n",
    "model_train=knn.fit(x_train.reshape(-1,28*28), y_train)\n",
    "#predict the label\n",
    "pred_labels=model_train.predict(x_test.reshape(-1,28*28))\n",
    "\n",
    "#plotting for test image and predicted label \n",
    "#plt.imshow(x_test[0])\n",
    "#print(pred_labels[0])\n",
    "#print accuracy\n",
    "print(\"Test accuracy for 60000 prototypes: {0}%\".format(accuracy_score(y_test,pred_labels)*100))"
   ]
  },
  {
   "cell_type": "markdown",
   "id": "578e6216",
   "metadata": {},
   "source": [
    "<font size=\"5\">**1- Nearest Neighbor with random prototype selection for 10000,5000,1000 samples**<font>"
   ]
  },
  {
   "cell_type": "code",
   "execution_count": 47,
   "id": "178704ac",
   "metadata": {},
   "outputs": [
    {
     "name": "stdout",
     "output_type": "stream",
     "text": [
      "Test accuracy for 10000 random prototypes: 94.639%\n",
      "Test accuracy standard deviation for 10000 prototypes: 0.07034912934784585%\n",
      "Test accuracy mean for 10000 prototypes: 94.63900000000001%\n",
      "Test accuracy for 5000 random prototypes: 93.528%\n",
      "Test accuracy standard deviation for 5000 prototypes: 0.15632018423735128%\n",
      "Test accuracy mean for 5000 prototypes: 93.52799999999999%\n",
      "Test accuracy for 1000 random prototypes: 88.421%\n",
      "Test accuracy standard deviation for 1000 prototypes: 0.3092393894703598%\n",
      "Test accuracy mean for 1000 prototypes: 88.42099999999999%\n"
     ]
    }
   ],
   "source": [
    "iterations=10\n",
    "cummulative_accuracy=0\n",
    "M_prototypes=[10000,5000,1000]\n",
    "accuracy={}\n",
    "std_r={}\n",
    "mean_r={}\n",
    "for M in M_prototypes:\n",
    "    cummulative_accuracy=0\n",
    "    acc_vals=[]\n",
    "    for i in range(1,iterations+1):\n",
    "        #get random indices in the train set range\n",
    "        pts= np.random.randint(0,60000,size=M)\n",
    "        xsub_train=np.array([x_train[x] for x in pts ])\n",
    "        ysub_train=np.array([y_train[x] for x in pts ])\n",
    "        \n",
    "        #train the model\n",
    "        model_train=knn.fit(xsub_train.reshape(-1,28*28), ysub_train)\n",
    "        #run prediction on the test set\n",
    "        pred_labels=model_train.predict(x_test.reshape(-1,28*28))\n",
    "        #compute the average accuracy across 10 iterations\n",
    "        acc=100*accuracy_score(y_test,pred_labels)\n",
    "        cummulative_accuracy= cummulative_accuracy+acc/iterations;\n",
    "        acc_vals.append(acc);\n",
    "        #print accuracy\n",
    "        #print(\"Test accuracy for {0} iteration: {1}%\".format(i,100*accuracy_score(y_test,pred_labels)))\n",
    "        \n",
    "        #print accuracy\n",
    "    std_r[M]=np.std(acc_vals)\n",
    "    mean_r[M]=np.mean(acc_vals)\n",
    "    accuracy[M]=cummulative_accuracy\n",
    "    print(\"Test accuracy for {0} random prototypes: {1}%\".format(M,cummulative_accuracy))\n",
    "    print(\"Test accuracy standard deviation for {0} prototypes: {1}%\".format(M,std_r[M]))\n",
    "    print(\"Test accuracy mean for {0} prototypes: {1}%\".format(M,mean_r[M]))"
   ]
  },
  {
   "cell_type": "code",
   "execution_count": 48,
   "id": "f8f36933",
   "metadata": {},
   "outputs": [
    {
     "data": {
      "image/png": "[encoded data removed]",
      "text/plain": [
       "<Figure size 504x504 with 1 Axes>"
      ]
     },
     "metadata": {
      "needs_background": "light"
     },
     "output_type": "display_data"
    }
   ],
   "source": [
    "fig = plt.figure(1)\n",
    "fig.set_figheight(7)\n",
    "fig.set_figwidth(7)\n",
    "\n",
    "ax1= fig.add_subplot(1,1,1)\n",
    "ax1.title.set_text('Accuracy(%) vs #Prototypes based on random selection')\n",
    "plt.xlabel('# Prototypes -->')\n",
    "plt.ylabel('Accuracy(%) -->')\n",
    "ax1.plot(accuracy.keys(),accuracy.values())\n",
    "plt.grid(visible='True')"
   ]
  },
  {
   "cell_type": "code",
   "execution_count": 22,
   "id": "8a504529",
   "metadata": {},
   "outputs": [],
   "source": [
    "#flatten into 784 shape vector from 28*28 image each\n",
    "x_train_flat=x_train.reshape(-1,28*28)\n",
    "x_test_flat=x_test.reshape(-1,28*28)"
   ]
  },
  {
   "cell_type": "markdown",
   "id": "1a45e17d",
   "metadata": {},
   "source": [
    "<font size=\"5\">**1- Nearest Neighbor with prototype selection using K- Means for 10000,5000,1000 samples**<font>"
   ]
  },
  {
   "cell_type": "markdown",
   "id": "5865abbd",
   "metadata": {},
   "source": [
    "Experiment(1) : Finding optimal value of K for the dataset"
   ]
  },
  {
   "cell_type": "code",
   "execution_count": 23,
   "id": "23d7009f",
   "metadata": {},
   "outputs": [],
   "source": [
    "#kmeans clustering model with N clusters\n",
    "cluster_size=[25,75,100,200,300]\n",
    "score={}\n",
    "for N in cluster_size:\n",
    "    kmeans = KMeans(n_clusters=N, random_state=0).fit(x_train_flat)\n",
    "    score[N]=kmeans.inertia_"
   ]
  },
  {
   "cell_type": "code",
   "execution_count": 24,
   "id": "d2f9b90b",
   "metadata": {},
   "outputs": [
    {
     "data": {
      "image/png": "[encoded data removed]",
      "text/plain": [
       "<Figure size 504x504 with 1 Axes>"
      ]
     },
     "metadata": {
      "needs_background": "light"
     },
     "output_type": "display_data"
    }
   ],
   "source": [
    "fig = plt.figure(1)\n",
    "fig.set_figheight(7)\n",
    "fig.set_figwidth(7)\n",
    "\n",
    "ax1= fig.add_subplot(1,1,1)\n",
    "ax1.title.set_text('Inertia vs Cluster size')\n",
    "plt.xlabel('# Clusters (N) -->')\n",
    "plt.ylabel('Inertia -->')\n",
    "ax1.plot(score.keys(),score.values())\n",
    "plt.grid(visible='True')"
   ]
  },
  {
   "cell_type": "markdown",
   "id": "2f06f404",
   "metadata": {},
   "source": [
    "Fit for the optimal value of cluster size based on Inertia scores"
   ]
  },
  {
   "cell_type": "code",
   "execution_count": 25,
   "id": "cb9bf641",
   "metadata": {},
   "outputs": [],
   "source": [
    "#from graph\n",
    "N_optimal=100\n",
    "#fit for the optimal cluster size\n",
    "kmeans = KMeans(n_clusters=N_optimal, random_state=0).fit(x_train_flat)\n",
    "#get cluster centers\n",
    "centers= kmeans.cluster_centers_\n",
    "#get the distance of points from centroid \n",
    "distfrom_c=euclidean_distances(centers,x_train_flat)\n",
    "#get the sorted indexes based on the distances sorted in ascending order (points closest to cetroid to farthest)\n",
    "args=np.argsort(distfrom_c, axis=1)"
   ]
  },
  {
   "cell_type": "markdown",
   "id": "31a91140",
   "metadata": {},
   "source": [
    "1- NN using prototypes obtained after K-Means with optimal cluster size"
   ]
  },
  {
   "cell_type": "code",
   "execution_count": 41,
   "id": "3f668e4a",
   "metadata": {},
   "outputs": [
    {
     "name": "stdout",
     "output_type": "stream",
     "text": [
      "Test accuracy for 10000 prototypes: 93.168%\n",
      "Test accuracy standard deviation for 10000 prototypes: 0.19301813386311625%\n",
      "Test accuracy mean for 10000 prototypes: 93.16799999999999%\n",
      "Test accuracy for 5000 prototypes: 92.01599999999999%\n",
      "Test accuracy standard deviation for 5000 prototypes: 0.1081850266903908%\n",
      "Test accuracy mean for 5000 prototypes: 92.01599999999999%\n",
      "Test accuracy for 1000 prototypes: 89.2%\n",
      "Test accuracy standard deviation for 1000 prototypes: 0.3684019543922123%\n",
      "Test accuracy mean for 1000 prototypes: 89.2%\n"
     ]
    }
   ],
   "source": [
    "iterations=5\n",
    "M_prototypes=[10000,5000,1000]\n",
    "accuracy_km={}\n",
    "std_km={}\n",
    "acc_km={}\n",
    "mean_km={}\n",
    "N=N_optimal\n",
    "for M in  M_prototypes:\n",
    "    acc_vals=[]\n",
    "    cummulative_accuracy=0\n",
    "    for i in range(1,iterations+1):\n",
    "        #fit for the optimal cluster size\n",
    "        kmeans = KMeans(n_clusters=N_optimal).fit(x_train_flat)\n",
    "        #get cluster centers\n",
    "        centers= kmeans.cluster_centers_\n",
    "        #get the distance of points from centroid \n",
    "        distfrom_c=euclidean_distances(centers,x_train_flat)\n",
    "        #get the sorted indexes based on the distances sorted in ascending order (points closest to cetroid to farthest)\n",
    "        args=np.argsort(distfrom_c, axis=1)\n",
    "        #number of points needed from each cluster\n",
    "        pts=M//N;\n",
    "        #get points \n",
    "        args_M= args[:,:pts]\n",
    "        args_M=args_M.flatten()\n",
    "        #creating variables for prototype subset\n",
    "        xsub_train=x_train_flat[args_M]\n",
    "        ysub_train=y_train[args_M]\n",
    "        model_train=knn.fit(xsub_train, ysub_train)\n",
    "        pred_labels=model_train.predict(x_test_flat)\n",
    "        acc=100*accuracy_score(y_test,pred_labels)\n",
    "        cummulative_accuracy= cummulative_accuracy+acc/iterations;\n",
    "        acc_vals.append(acc)\n",
    "        #print accuracy\n",
    "        #print(\"Test accuracy for {0} iteration: {1}%\".format(i,100*accuracy_score(y_test,pred_labels)))\n",
    "    std_km[M]=np.std(acc_vals)\n",
    "    mean_km[M]=np.mean(acc_vals)\n",
    "    accuracy_km[M]=cummulative_accuracy\n",
    "    #print accuracy\n",
    "    print(\"Test accuracy for {0} prototypes: {1}%\".format(M,accuracy_km[M]))\n",
    "    print(\"Test accuracy standard deviation for {0} prototypes: {1}%\".format(M,std_km[M]))\n",
    "    print(\"Test accuracy mean for {0} prototypes: {1}%\".format(M,mean_km[M]))"
   ]
  },
  {
   "cell_type": "code",
   "execution_count": 42,
   "id": "76bf3489",
   "metadata": {},
   "outputs": [
    {
     "data": {
      "text/plain": [
       "<matplotlib.legend.Legend at 0x290c3b9e2e0>"
      ]
     },
     "execution_count": 42,
     "metadata": {},
     "output_type": "execute_result"
    },
    {
     "data": {
      "image/png": "[encoded data removed]",
      "text/plain": [
       "<Figure size 504x504 with 1 Axes>"
      ]
     },
     "metadata": {
      "needs_background": "light"
     },
     "output_type": "display_data"
    }
   ],
   "source": [
    "fig = plt.figure(2)\n",
    "fig.set_figheight(7)\n",
    "fig.set_figwidth(7)\n",
    "\n",
    "ax1= fig.add_subplot(1,1,1)\n",
    "ax1.title.set_text('Accuracy(%) vs #Prototypes')\n",
    "plt.xlabel('# Prototypes -->')\n",
    "plt.ylabel('Accuracy(%) -->')\n",
    "curve1,=ax1.plot(accuracy_km.keys(),accuracy_km.values())\n",
    "curve2,=ax1.plot(accuracy.keys(),accuracy.values())\n",
    "plt.grid(visible='True')\n",
    "curve1.set_label('Kmeans prototype selection NN')\n",
    "curve2.set_label('Random prototype selection NN')\n",
    "plt.legend()"
   ]
  },
  {
   "cell_type": "markdown",
   "id": "3d73ac41",
   "metadata": {},
   "source": [
    "<font size=\"5\">**1- Nearest Neighbor with prototype selection using UMAP followed by K- Means for 1000,5000,1000 samples**<font>"
   ]
  },
  {
   "cell_type": "markdown",
   "id": "6d807663",
   "metadata": {},
   "source": [
    "Experiment(2) : Dimensionality reduction before K means"
   ]
  },
  {
   "cell_type": "code",
   "execution_count": 31,
   "id": "83f6aa2e",
   "metadata": {},
   "outputs": [],
   "source": [
    "# use the manifold mapping to transform data to lower dimensionality\n",
    "components=[16,32,64]\n",
    "x_train_embedset={}\n",
    "x_test_embedset={}\n",
    "for component in components:\n",
    "    mmap = umap.UMAP( n_neighbors=30,n_components=component,random_state=42, metric='cosine')\n",
    "    x_train_embedset[component]= mmap.fit_transform(x_train_flat,y_train)\n",
    "    x_test_embedset[component]= mmap.transform(x_test_flat)"
   ]
  },
  {
   "cell_type": "code",
   "execution_count": 32,
   "id": "f4af29b8",
   "metadata": {},
   "outputs": [],
   "source": [
    "#kmeans clustering model with N clusters\n",
    "cluster_size=[25,75,100,200,300]\n",
    "score2={}\n",
    "for component in components:\n",
    "    for N in cluster_size:\n",
    "        kmeans = KMeans(n_clusters=N, random_state=0).fit(x_train_embedset[component])\n",
    "        score2[(component,N)]=kmeans.inertia_"
   ]
  },
  {
   "cell_type": "code",
   "execution_count": 33,
   "id": "e707d5d9",
   "metadata": {},
   "outputs": [
    {
     "name": "stdout",
     "output_type": "stream",
     "text": [
      "dict_items([((16, 25), 23011.595703125), ((16, 75), 8849.8154296875), ((16, 100), 6874.8505859375), ((16, 200), 4094.91259765625), ((16, 300), 3066.587890625), ((32, 25), 23343.537109375), ((32, 75), 8870.5751953125), ((32, 100), 6966.44140625), ((32, 200), 4082.95556640625), ((32, 300), 3076.156494140625), ((64, 25), 24187.84375), ((64, 75), 8934.6806640625), ((64, 100), 6961.16943359375), ((64, 200), 4106.857421875), ((64, 300), 3077.81591796875)])\n"
     ]
    }
   ],
   "source": [
    "print(score2.items())\n",
    "optimal_components=16"
   ]
  },
  {
   "cell_type": "code",
   "execution_count": 34,
   "id": "92d1dbe3",
   "metadata": {},
   "outputs": [],
   "source": [
    "#get the embedding for the optimal number of components given 30 neighbors\n",
    "x_train_embed=x_train_embedset[optimal_components]\n",
    "x_test_embed=x_test_embedset[optimal_components]"
   ]
  },
  {
   "cell_type": "code",
   "execution_count": 36,
   "id": "603da6ed",
   "metadata": {},
   "outputs": [],
   "source": [
    "#kmeans clustering model with N clusters, N>=10\n",
    "N=100\n",
    "kmeans = KMeans(n_clusters=N, random_state=0).fit(x_train_embed)\n",
    "#get cluster centers\n",
    "centers= kmeans.cluster_centers_\n",
    "#get the distance of points from centroid \n",
    "distfrom_c=euclidean_distances(centers,x_train_embed)\n",
    "#get the sorted indexes based on the distances sorted in ascending order (points closest to cetroid to farthest)\n",
    "args=np.argsort(distfrom_c, axis=1)"
   ]
  },
  {
   "cell_type": "code",
   "execution_count": 39,
   "id": "5c7dfd55",
   "metadata": {},
   "outputs": [
    {
     "name": "stdout",
     "output_type": "stream",
     "text": [
      "Test accuracy for 10000 prototypes: 96.73000000000002%\n",
      "Test accuracy standard deviation for 10000 prototypes: 0.010954451150103737%\n",
      "Test accuracy mean for 10000 prototypes: 96.72999999999999%\n",
      "Test accuracy for 5000 prototypes: 96.702%\n",
      "Test accuracy standard deviation for 5000 prototypes: 0.039698866482558104%\n",
      "Test accuracy mean for 5000 prototypes: 96.702%\n",
      "Test accuracy for 1000 prototypes: 96.632%\n",
      "Test accuracy standard deviation for 1000 prototypes: 0.09724196624914547%\n",
      "Test accuracy mean for 1000 prototypes: 96.63199999999999%\n"
     ]
    }
   ],
   "source": [
    "iterations=5\n",
    "M_prototypes=[10000,5000,1000]\n",
    "accuracy_kmeans={}\n",
    "std_kmeans={}\n",
    "mean_kmeans={}\n",
    "for M in  M_prototypes:\n",
    "    acc_vals=[]\n",
    "    cummulative_accuracy=0\n",
    "    for i in range(1,iterations+1):\n",
    "        #mappinng to low dimension\n",
    "        mmap = umap.UMAP( n_neighbors=30,n_components=optimal_components, metric='cosine')\n",
    "        x_train_embed= mmap.fit_transform(x_train_flat,y_train)\n",
    "        x_test_embed= mmap.transform(x_test_flat)\n",
    "        N=100\n",
    "        kmeans = KMeans(n_clusters=N).fit(x_train_embed)\n",
    "        #get cluster centers\n",
    "        centers= kmeans.cluster_centers_\n",
    "        #get the distance of points from centroid \n",
    "        distfrom_c=euclidean_distances(centers,x_train_embed)\n",
    "        #get the sorted indexes based on the distances sorted in ascending order (points closest to cetroid to farthest)\n",
    "        args=np.argsort(distfrom_c, axis=1)\n",
    "        #number of points needed from each cluster\n",
    "        pts=M//N;\n",
    "        #get points \n",
    "        args_M= args[:,:pts]\n",
    "        args_M=args_M.flatten()\n",
    "        #creating variables for prototype subset\n",
    "        xsub_train=x_train_embed[args_M]\n",
    "        ysub_train=y_train[args_M]\n",
    "        model_train=knn.fit(xsub_train, ysub_train)\n",
    "        pred_labels=model_train.predict(x_test_embed)\n",
    "        acc=100*accuracy_score(y_test,pred_labels)\n",
    "        cummulative_accuracy= cummulative_accuracy+acc/iterations;\n",
    "        acc_vals.append(acc)\n",
    "        #print accuracy\n",
    "        #print(\"Test accuracy for {0} iteration: {1}%\".format(i,100*accuracy_score(y_test,pred_labels)))\n",
    "    std_kmeans[M]=np.std(acc_vals)\n",
    "    mean_kmeans[M]=np.mean(acc_vals)\n",
    "    accuracy_kmeans[M]=cummulative_accuracy\n",
    "    #print accuracy\n",
    "    print(\"Test accuracy for {0} prototypes: {1}%\".format(M,accuracy_kmeans[M]))\n",
    "    print(\"Test accuracy standard deviation for {0} prototypes: {1}%\".format(M,std_kmeans[M]))\n",
    "    print(\"Test accuracy mean for {0} prototypes: {1}%\".format(M,mean_kmeans[M]))"
   ]
  },
  {
   "cell_type": "code",
   "execution_count": 40,
   "id": "36ff9451",
   "metadata": {},
   "outputs": [
    {
     "data": {
      "text/plain": [
       "<matplotlib.legend.Legend at 0x290c387e220>"
      ]
     },
     "execution_count": 40,
     "metadata": {},
     "output_type": "execute_result"
    },
    {
     "data": {
      "image/png": "[encoded data removed]",
      "text/plain": [
       "<Figure size 504x504 with 1 Axes>"
      ]
     },
     "metadata": {
      "needs_background": "light"
     },
     "output_type": "display_data"
    }
   ],
   "source": [
    "fig = plt.figure(2)\n",
    "fig.set_figheight(7)\n",
    "fig.set_figwidth(7)\n",
    "\n",
    "ax1= fig.add_subplot(1,1,1)\n",
    "ax1.title.set_text('Accuracy(%) vs #Prototypes based on random selection')\n",
    "plt.xlabel('# Prototypes -->')\n",
    "plt.ylabel('Accuracy(%) -->')\n",
    "curve1,=ax1.plot(accuracy_kmeans.keys(),accuracy_kmeans.values())\n",
    "curve2,=ax1.plot(accuracy.keys(),accuracy.values())\n",
    "plt.grid(visible='True')\n",
    "curve1.set_label('Kmeans with UMAP prototype selection NN')\n",
    "curve2.set_label('Random prototype selection NN')\n",
    "plt.legend()"
   ]
  }
 ],
 "metadata": {
  "kernelspec": {
   "display_name": "Python 3",
   "language": "python",
   "name": "python3"
  },
  "language_info": {
   "codemirror_mode": {
    "name": "ipython",
    "version": 3
   },
   "file_extension": ".py",
   "mimetype": "text/x-python",
   "name": "python",
   "nbconvert_exporter": "python",
   "pygments_lexer": "ipython3",
   "version": "3.8.8"
  }
 },
 "nbformat": 4,
 "nbformat_minor": 5
}
