{
 "cells": [
  {
   "cell_type": "code",
   "execution_count": 22,
   "id": "a65e8d8c",
   "metadata": {},
   "outputs": [],
   "source": [
    "# -*- coding: utf-8 -*-\n",
    "\"\"\"\n",
    "@author: prasad kamath\n",
    "\"\"\"\n",
    "\n",
    "import numpy as np;\n",
    "import sklearn;\n",
    "import sklearn.datasets as datasets\n",
    "from sklearn.model_selection import train_test_split\n",
    "from  sklearn.metrics import accuracy_score\n",
    "import matplotlib.pyplot as plt\n",
    "from sklearn.metrics.pairwise import euclidean_distances\n",
    "from sklearn import metrics\n",
    "from sklearn.datasets import load_wine\n",
    "from sklearn.linear_model import LogisticRegression\n",
    "from sklearn.preprocessing import StandardScaler\n",
    "from sklearn.metrics import classification_report, confusion_matrix"
   ]
  },
  {
   "cell_type": "markdown",
   "id": "8c34c058",
   "metadata": {},
   "source": [
    "<font size=\"5\">**1. Wine dataset preparation**<font>"
   ]
  },
  {
   "cell_type": "code",
   "execution_count": 23,
   "id": "9d057281",
   "metadata": {},
   "outputs": [],
   "source": [
    "eps=100000\n",
    "np.random.seed(1992)\n",
    "# Get data\n",
    "features, target = load_wine(return_X_y=True)\n",
    "#normalize data\n",
    "scaler = StandardScaler()\n",
    "scaler.fit(features)\n",
    "features=scaler.transform(features)"
   ]
  },
  {
   "cell_type": "code",
   "execution_count": 24,
   "id": "3005d413",
   "metadata": {},
   "outputs": [],
   "source": [
    "x=[]\n",
    "y=[]\n",
    "#keep only the first two classes\n",
    "for i,label in enumerate(target):\n",
    "    if(label==0 or label==1):\n",
    "        x.append(features[i])\n",
    "        y.append(label)\n",
    "x=np.array(x)\n",
    "y=np.array(y)"
   ]
  },
  {
   "cell_type": "code",
   "execution_count": 25,
   "id": "a6ad4eb1",
   "metadata": {},
   "outputs": [],
   "source": [
    "xtrain,xtest,ytrain,ytest=train_test_split(x, y, test_size=0.33, random_state=42, shuffle=True)"
   ]
  },
  {
   "cell_type": "code",
   "execution_count": 26,
   "id": "7b2f0c93",
   "metadata": {},
   "outputs": [],
   "source": [
    "bias=np.ones((xtrain.shape[0],1))\n",
    "xtrain=np.append(xtrain,bias,axis=1)\n",
    "bias=np.ones((xtest.shape[0],1))\n",
    "xtest=np.append(xtest,bias,axis=1)"
   ]
  },
  {
   "cell_type": "markdown",
   "id": "91105981",
   "metadata": {},
   "source": [
    "<font size=\"5\">**2. Logistic regression using gradient descent**<font>"
   ]
  },
  {
   "cell_type": "markdown",
   "id": "e1f47b09",
   "metadata": {},
   "source": [
    "<font size=\"3\">**2(a). Logistic regression using sklearn**<font>"
   ]
  },
  {
   "cell_type": "code",
   "execution_count": 27,
   "id": "6c20be90",
   "metadata": {},
   "outputs": [
    {
     "name": "stdout",
     "output_type": "stream",
     "text": [
      "              precision    recall  f1-score   support\n",
      "\n",
      "           0       0.96      1.00      0.98        22\n",
      "           1       1.00      0.95      0.98        21\n",
      "\n",
      "    accuracy                           0.98        43\n",
      "   macro avg       0.98      0.98      0.98        43\n",
      "weighted avg       0.98      0.98      0.98        43\n",
      "\n"
     ]
    }
   ],
   "source": [
    "model=LogisticRegression(penalty='none',random_state=0).fit(xtrain, ytrain)\n",
    "ypredicted=(model.predict(xtest))\n",
    "acc=100*accuracy_score(ypredicted,ytest)\n",
    "print(classification_report(ytest,ypredicted))"
   ]
  },
  {
   "cell_type": "markdown",
   "id": "f01c4cc2",
   "metadata": {},
   "source": [
    "<font size=\"3\">**2(b). Logistic regression using gradient descent**<font>"
   ]
  },
  {
   "cell_type": "code",
   "execution_count": 28,
   "id": "ec2cdd3c",
   "metadata": {},
   "outputs": [],
   "source": [
    "def sigmoid(data):\n",
    "    return (1.0/(1 + np.exp(-1*data)))"
   ]
  },
  {
   "cell_type": "code",
   "execution_count": 29,
   "id": "85b94f1c",
   "metadata": {},
   "outputs": [],
   "source": [
    "def Lossfunction(weights,data,labels):\n",
    "    out=np.dot(data,weights)\n",
    "    ypred=sigmoid(out)\n",
    "    yk=labels.reshape(labels.shape[0],1)\n",
    "    op=(yk*np.log(ypred))+((1-yk)*np.log(1-ypred))\n",
    "    err=-1.0*np.mean(op)\n",
    "    return err"
   ]
  },
  {
   "cell_type": "code",
   "execution_count": 30,
   "id": "f1c50948",
   "metadata": {},
   "outputs": [],
   "source": [
    "def WeightUpdateGD(weights,data,labels,stepsize=0.001):\n",
    "    N=data.shape[0]\n",
    "    out=np.dot(data,weights)\n",
    "    ypred=sigmoid(out)\n",
    "    yk=labels.reshape(ytrain.shape[0],1)\n",
    "    grad= (1/N)*(np.dot(data.T,(ypred-yk)))\n",
    "    update=grad*stepsize\n",
    "    weights-=update\n",
    "    return weights"
   ]
  },
  {
   "cell_type": "code",
   "execution_count": 31,
   "id": "b53f6f12",
   "metadata": {},
   "outputs": [],
   "source": [
    "def Predict(weights,data):\n",
    "    yp=[]\n",
    "    ypred=sigmoid(np.dot(data,weights))\n",
    "    for y in ypred:\n",
    "        if(y>=0.5):\n",
    "            yp.append(1)\n",
    "        else:\n",
    "            yp.append(0)\n",
    "    return yp"
   ]
  },
  {
   "cell_type": "code",
   "execution_count": 32,
   "id": "a5daaeb5",
   "metadata": {},
   "outputs": [
    {
     "name": "stdout",
     "output_type": "stream",
     "text": [
      "              precision    recall  f1-score   support\n",
      "\n",
      "           0       0.96      1.00      0.98        22\n",
      "           1       1.00      0.95      0.98        21\n",
      "\n",
      "    accuracy                           0.98        43\n",
      "   macro avg       0.98      0.98      0.98        43\n",
      "weighted avg       0.98      0.98      0.98        43\n",
      "\n",
      "Final loss= 0.0024378625946884476\n"
     ]
    }
   ],
   "source": [
    "epochs=eps\n",
    "weights=np.random.rand(xtrain.shape[1],1)\n",
    "loss_GD=[]\n",
    "for epoch in range(epochs):\n",
    "    loss=Lossfunction(weights,xtrain,ytrain)\n",
    "    loss_GD.append(loss)\n",
    "    weights=WeightUpdateGD(weights,xtrain,ytrain,0.01)\n",
    "    ypred= Predict(weights,xtest)\n",
    "    acc=100*accuracy_score(ytest,ypred)\n",
    "ypred= Predict(weights,xtest)\n",
    "print(classification_report(ytest,ypred))\n",
    "print(\"Final loss= {0}\".format(loss))"
   ]
  },
  {
   "cell_type": "markdown",
   "id": "eea41845",
   "metadata": {},
   "source": [
    "<font size=\"5\">**3. Logistic regression using random coordinate descent**<font>"
   ]
  },
  {
   "cell_type": "code",
   "execution_count": 33,
   "id": "c06043e5",
   "metadata": {},
   "outputs": [],
   "source": [
    "def WeightUpdateRCD(weights,data,labels,stepsize=0.01):\n",
    "    N=data.shape[0]\n",
    "    ypred=sigmoid(np.dot(data,weights))\n",
    "    yk=labels.reshape(ytrain.shape[0],1)\n",
    "    grad= (1/N)*(np.dot(data.T,(ypred-yk)))\n",
    "    update=-1.0*grad*stepsize\n",
    "    #get index of random coordinate and update only that index\n",
    "    indx=np.random.randint(0,14)\n",
    "    updatemod=np.zeros((14,1),np.float64)\n",
    "    updatemod[indx]=update[indx]\n",
    "    weights=np.add(weights,updatemod)\n",
    "    return weights"
   ]
  },
  {
   "cell_type": "code",
   "execution_count": 34,
   "id": "9046d47d",
   "metadata": {},
   "outputs": [
    {
     "name": "stdout",
     "output_type": "stream",
     "text": [
      "              precision    recall  f1-score   support\n",
      "\n",
      "           0       0.96      1.00      0.98        22\n",
      "           1       1.00      0.95      0.98        21\n",
      "\n",
      "    accuracy                           0.98        43\n",
      "   macro avg       0.98      0.98      0.98        43\n",
      "weighted avg       0.98      0.98      0.98        43\n",
      "\n",
      "Final loss= 0.021110415947651052\n"
     ]
    }
   ],
   "source": [
    "epochs=eps\n",
    "weights=np.random.rand(xtrain.shape[1],1)\n",
    "loss_RCD=[]\n",
    "for epoch in range(epochs):\n",
    "    loss=Lossfunction(weights,xtrain,ytrain)\n",
    "    loss_RCD.append(loss)\n",
    "    weights=WeightUpdateRCD(weights,xtrain,ytrain,stepsize=0.01)\n",
    "    ypred= Predict(weights,xtest)\n",
    "    #print(loss)\n",
    "ypred= Predict(weights,xtest)\n",
    "print(classification_report(ytest,ypred))\n",
    "print(\"Final loss= {0}\".format(loss))"
   ]
  },
  {
   "cell_type": "markdown",
   "id": "6710ce11",
   "metadata": {},
   "source": [
    "<font size=\"5\">**4. Logistic regression using Greedy coordinate descent**<font>"
   ]
  },
  {
   "cell_type": "markdown",
   "id": "9b1cda80",
   "metadata": {},
   "source": [
    "<font size=\"3\">**4(a). Logistic regression using Greedy coordinate descent vs Gradient descent and Random selection Coordinate descent**<font>"
   ]
  },
  {
   "cell_type": "code",
   "execution_count": 35,
   "id": "fec7048b",
   "metadata": {},
   "outputs": [],
   "source": [
    "def WeightUpdateCD(weights,data,labels,stepsize=0.01):\n",
    "    N=data.shape[0]\n",
    "    ypred=sigmoid(np.dot(data,weights))\n",
    "    yk=labels.reshape(ytrain.shape[0],1)\n",
    "    grad= (1/N)*(np.dot(data.T,(ypred-yk)))\n",
    "    #find max gradient\n",
    "    max_indx=np.argmax(np.abs(grad))\n",
    "    update=-1.0*grad*stepsize\n",
    "    #get index of random coordinate and update only that index\n",
    "    indx=np.random.randint(0,14)\n",
    "    updatemod=np.zeros((14,1),np.float64)\n",
    "    updatemod[max_indx]=update[max_indx]\n",
    "    weights=np.add(weights,updatemod)\n",
    "    return weights"
   ]
  },
  {
   "cell_type": "code",
   "execution_count": 36,
   "id": "8382993b",
   "metadata": {},
   "outputs": [
    {
     "name": "stdout",
     "output_type": "stream",
     "text": [
      "              precision    recall  f1-score   support\n",
      "\n",
      "           0       1.00      1.00      1.00        22\n",
      "           1       1.00      1.00      1.00        21\n",
      "\n",
      "    accuracy                           1.00        43\n",
      "   macro avg       1.00      1.00      1.00        43\n",
      "weighted avg       1.00      1.00      1.00        43\n",
      "\n",
      "Final loss= 0.012439214869525858\n"
     ]
    }
   ],
   "source": [
    "epochs=eps\n",
    "weights=np.random.rand(xtrain.shape[1],1)\n",
    "loss_CD=[]\n",
    "for epoch in range(epochs):\n",
    "    loss=Lossfunction(weights,xtrain,ytrain)\n",
    "    loss_CD.append(loss)\n",
    "    weights=WeightUpdateCD(weights,xtrain,ytrain,stepsize=0.01)\n",
    "    ypred= Predict(weights,xtest)\n",
    "    #print(loss)\n",
    "ypred= Predict(weights,xtest)\n",
    "print(classification_report(ytest,ypred))\n",
    "print(\"Final loss= {0}\".format(loss))"
   ]
  },
  {
   "cell_type": "code",
   "execution_count": 37,
   "id": "b2320dcb",
   "metadata": {},
   "outputs": [
    {
     "data": {
      "text/plain": [
       "<matplotlib.legend.Legend at 0x2df136fc2e0>"
      ]
     },
     "execution_count": 37,
     "metadata": {},
     "output_type": "execute_result"
    },
    {
     "data": {
      "image/png": "[encoded data removed]",
      "text/plain": [
       "<Figure size 504x504 with 1 Axes>"
      ]
     },
     "metadata": {
      "needs_background": "light"
     },
     "output_type": "display_data"
    }
   ],
   "source": [
    "fig = plt.figure(1)\n",
    "fig.set_figheight(7)\n",
    "fig.set_figwidth(7)\n",
    "ax1= fig.add_subplot(1,1,1)\n",
    "ax1.title.set_text('Logistic Regression loss vs epoch')\n",
    "plt.xlabel('epochs -->')\n",
    "plt.ylabel('Loss -->')\n",
    "curve1,=ax1.plot(loss_GD)\n",
    "curve2,=ax1.plot(loss_RCD)\n",
    "curve3,=ax1.plot(loss_CD)\n",
    "plt.grid(visible='True')\n",
    "curve1.set_label('Gradient descent')\n",
    "curve2.set_label('Random coordinate descent')\n",
    "curve3.set_label('Greedy coordinate descent')\n",
    "plt.legend()"
   ]
  },
  {
   "cell_type": "markdown",
   "id": "e2564cba",
   "metadata": {},
   "source": [
    "<font size=\"3\">**4(b). Logistic regression using Greedy coordinate descent for different weight initializations**<font>"
   ]
  },
  {
   "cell_type": "code",
   "execution_count": 38,
   "id": "f127eb91",
   "metadata": {},
   "outputs": [
    {
     "name": "stdout",
     "output_type": "stream",
     "text": [
      "              precision    recall  f1-score   support\n",
      "\n",
      "           0       1.00      1.00      1.00        22\n",
      "           1       1.00      1.00      1.00        21\n",
      "\n",
      "    accuracy                           1.00        43\n",
      "   macro avg       1.00      1.00      1.00        43\n",
      "weighted avg       1.00      1.00      1.00        43\n",
      "\n"
     ]
    }
   ],
   "source": [
    "epochs=eps\n",
    "weights=np.random.rand(xtrain.shape[1],1)\n",
    "loss_CD_rw=[]\n",
    "for epoch in range(epochs):\n",
    "    loss=Lossfunction(weights,xtrain,ytrain)\n",
    "    loss_CD_rw.append(loss)\n",
    "    weights=WeightUpdateCD(weights,xtrain,ytrain,stepsize=0.01)\n",
    "    ypred= Predict(weights,xtest)\n",
    "    #print(loss)\n",
    "ypred= Predict(weights,xtest)\n",
    "print(classification_report(ytest,ypred))"
   ]
  },
  {
   "cell_type": "code",
   "execution_count": 39,
   "id": "f5630db5",
   "metadata": {},
   "outputs": [
    {
     "name": "stdout",
     "output_type": "stream",
     "text": [
      "              precision    recall  f1-score   support\n",
      "\n",
      "           0       0.96      1.00      0.98        22\n",
      "           1       1.00      0.95      0.98        21\n",
      "\n",
      "    accuracy                           0.98        43\n",
      "   macro avg       0.98      0.98      0.98        43\n",
      "weighted avg       0.98      0.98      0.98        43\n",
      "\n"
     ]
    }
   ],
   "source": [
    "epochs=eps\n",
    "weights=np.zeros((xtrain.shape[1],1))\n",
    "loss_CD_zw=[]\n",
    "for epoch in range(epochs):\n",
    "    loss=Lossfunction(weights,xtrain,ytrain)\n",
    "    loss_CD_zw.append(loss)\n",
    "    weights=WeightUpdateCD(weights,xtrain,ytrain,stepsize=0.01)\n",
    "    ypred= Predict(weights,xtest)\n",
    "    #print(loss)\n",
    "ypred= Predict(weights,xtest)\n",
    "print(classification_report(ytest,ypred))"
   ]
  },
  {
   "cell_type": "code",
   "execution_count": 40,
   "id": "3f05f01f",
   "metadata": {},
   "outputs": [
    {
     "data": {
      "text/plain": [
       "<matplotlib.legend.Legend at 0x2df19ca5f70>"
      ]
     },
     "execution_count": 40,
     "metadata": {},
     "output_type": "execute_result"
    },
    {
     "data": {
      "image/png": "[encoded data removed]",
      "text/plain": [
       "<Figure size 504x504 with 1 Axes>"
      ]
     },
     "metadata": {
      "needs_background": "light"
     },
     "output_type": "display_data"
    }
   ],
   "source": [
    "fig = plt.figure(1)\n",
    "fig.set_figheight(7)\n",
    "fig.set_figwidth(7)\n",
    "ax1= fig.add_subplot(1,1,1)\n",
    "ax1.title.set_text('Logistic Regression loss vs epoch for Greedy descent')\n",
    "plt.xlabel('epochs -->')\n",
    "plt.ylabel('Loss -->')\n",
    "curve1,=ax1.plot(loss_CD_rw)\n",
    "curve2,=ax1.plot(loss_CD_zw)\n",
    "plt.grid(visible='True')\n",
    "curve1.set_label('Greedy coordinate descent with random weight init')\n",
    "curve2.set_label('Greedy coordinate descent with zero weight init')\n",
    "plt.legend()"
   ]
  },
  {
   "cell_type": "markdown",
   "id": "4e042d4e",
   "metadata": {},
   "source": [
    "<font size=\"3\">**4(c). Logistic regression using Greedy coordinate descent for different learning rates**<font>"
   ]
  },
  {
   "cell_type": "code",
   "execution_count": 41,
   "id": "0820531d",
   "metadata": {},
   "outputs": [
    {
     "name": "stdout",
     "output_type": "stream",
     "text": [
      "Test accuracy for Greedy Coordinate descent with alpha =0.0001 : 97.67441860465115%\n",
      "Test accuracy for Greedy Coordinate descent with alpha =0.001 : 97.67441860465115%\n",
      "Test accuracy for Greedy Coordinate descent with alpha =0.005 : 100.0%\n",
      "Test accuracy for Greedy Coordinate descent with alpha =0.01 : 100.0%\n"
     ]
    }
   ],
   "source": [
    "epochs=eps\n",
    "step_sizes=[0.0001,0.001,0.005,0.01]\n",
    "loss_alpha={}\n",
    "seed=np.random.seed(1992)\n",
    "for alpha in step_sizes:\n",
    "    weights=np.random.rand(xtrain.shape[1],1)\n",
    "    loss_CD_rw=[]\n",
    "    for epoch in range(epochs):\n",
    "        loss=Lossfunction(weights,xtrain,ytrain)\n",
    "        loss_CD_rw.append(loss)\n",
    "        weights=WeightUpdateCD(weights,xtrain,ytrain,stepsize=0.01)\n",
    "        ypred= Predict(weights,xtest)\n",
    "    ypred= Predict(weights,xtest)\n",
    "    acc=100*accuracy_score(ytest,ypred)\n",
    "    print(\"Test accuracy for Greedy Coordinate descent with alpha ={0} : {1}%\".format(alpha,acc))\n",
    "    loss_alpha[alpha]=loss_CD_rw\n",
    "    "
   ]
  },
  {
   "cell_type": "code",
   "execution_count": 57,
   "id": "b7f5fa2e",
   "metadata": {},
   "outputs": [
    {
     "data": {
      "text/plain": [
       "<matplotlib.legend.Legend at 0x2df147bdd90>"
      ]
     },
     "execution_count": 57,
     "metadata": {},
     "output_type": "execute_result"
    },
    {
     "data": {
      "image/png": "[encoded data removed]",
      "text/plain": [
       "<Figure size 504x504 with 1 Axes>"
      ]
     },
     "metadata": {
      "needs_background": "light"
     },
     "output_type": "display_data"
    }
   ],
   "source": [
    "fig = plt.figure(1)\n",
    "fig.set_figheight(7)\n",
    "fig.set_figwidth(7)\n",
    "ax1= fig.add_subplot(1,1,1)\n",
    "ax1.title.set_text('Logistic loss vs epoch for different alpha')\n",
    "plt.xlabel('epochs -->')\n",
    "plt.ylabel('Loss -->')\n",
    "for alpha in step_sizes:\n",
    "    curve1,=ax1.plot(loss_alpha[alpha])\n",
    "    plt.grid(visible='True')\n",
    "    curve1.set_label('alpha={0}'.format(alpha))\n",
    "plt.legend()"
   ]
  },
  {
   "cell_type": "markdown",
   "id": "02562260",
   "metadata": {},
   "source": [
    "<font size=\"3\">**4(d). Logistic regression convergence comparison for different epochs**<font>"
   ]
  },
  {
   "cell_type": "code",
   "execution_count": 58,
   "id": "d39e8af2",
   "metadata": {},
   "outputs": [
    {
     "name": "stdout",
     "output_type": "stream",
     "text": [
      "              precision    recall  f1-score   support\n",
      "\n",
      "           0       0.96      1.00      0.98        22\n",
      "           1       1.00      0.95      0.98        21\n",
      "\n",
      "    accuracy                           0.98        43\n",
      "   macro avg       0.98      0.98      0.98        43\n",
      "weighted avg       0.98      0.98      0.98        43\n",
      "\n",
      "Final loss= 0.0012846981636210398\n",
      "required epochs for Gradient descent=200000\n"
     ]
    }
   ],
   "source": [
    "weights=np.random.rand(xtrain.shape[1],1)\n",
    "loss_GD=[]\n",
    "diff=999\n",
    "prev_weights=np.random.rand(xtrain.shape[1],1)\n",
    "iters=0\n",
    "max_iters=200000\n",
    "while(diff>=0.000001 and iters<max_iters):\n",
    "    loss=Lossfunction(weights,xtrain,ytrain)\n",
    "    loss_GD.append(loss)\n",
    "    weights=WeightUpdateGD(weights,xtrain,ytrain,0.01)\n",
    "    diff=np.mean(np.abs((weights-prev_weights)))\n",
    "    prev_weights=np.copy(weights)\n",
    "    ypred= Predict(weights,xtest)\n",
    "    acc=100*accuracy_score(ytest,ypred)\n",
    "    iters+=1\n",
    "ypred= Predict(weights,xtest)\n",
    "print(classification_report(ytest,ypred))\n",
    "print(\"Final loss= {0}\".format(loss))\n",
    "print(\"required epochs for Gradient descent={0}\".format(iters))"
   ]
  },
  {
   "cell_type": "code",
   "execution_count": 59,
   "id": "cb7a10f3",
   "metadata": {},
   "outputs": [
    {
     "name": "stdout",
     "output_type": "stream",
     "text": [
      "              precision    recall  f1-score   support\n",
      "\n",
      "           0       0.96      1.00      0.98        22\n",
      "           1       1.00      0.95      0.98        21\n",
      "\n",
      "    accuracy                           0.98        43\n",
      "   macro avg       0.98      0.98      0.98        43\n",
      "weighted avg       0.98      0.98      0.98        43\n",
      "\n",
      "Final loss= 0.012864027918244304\n",
      "required epochs for random feature selection coordinate descent=200000\n"
     ]
    }
   ],
   "source": [
    "weights=np.random.rand(xtrain.shape[1],1)\n",
    "loss_RCD=[]\n",
    "diff=999\n",
    "iters=0\n",
    "prev_weights=np.random.rand(xtrain.shape[1],1)\n",
    "loss=100\n",
    "max_iters=200000\n",
    "while(loss>=0.0008 and iters<max_iters):\n",
    "    loss=Lossfunction(weights,xtrain,ytrain)\n",
    "    loss_RCD.append(loss)\n",
    "    weights=WeightUpdateRCD(weights,xtrain,ytrain,stepsize=0.01)\n",
    "    diff=np.mean(np.abs((weights-prev_weights)))\n",
    "    prev_weights=np.copy(weights)\n",
    "    ypred= Predict(weights,xtest)\n",
    "    iters+=1\n",
    "    #print(loss)\n",
    "ypred= Predict(weights,xtest)\n",
    "print(classification_report(ytest,ypred))\n",
    "print(\"Final loss= {0}\".format(loss))\n",
    "print(\"required epochs for random feature selection coordinate descent={0}\".format(iters))"
   ]
  },
  {
   "cell_type": "code",
   "execution_count": 60,
   "id": "3298164a",
   "metadata": {},
   "outputs": [
    {
     "name": "stdout",
     "output_type": "stream",
     "text": [
      "              precision    recall  f1-score   support\n",
      "\n",
      "           0       0.96      1.00      0.98        22\n",
      "           1       1.00      0.95      0.98        21\n",
      "\n",
      "    accuracy                           0.98        43\n",
      "   macro avg       0.98      0.98      0.98        43\n",
      "weighted avg       0.98      0.98      0.98        43\n",
      "\n",
      "Final loss= 0.007495119175856397\n",
      "required epochs for greedy coordinate descent=200000\n"
     ]
    }
   ],
   "source": [
    "weights=np.random.rand(xtrain.shape[1],1)\n",
    "loss_CD=[]\n",
    "diff=999\n",
    "iters=0\n",
    "loss=100\n",
    "prev_weights=np.random.rand(xtrain.shape[1],1)\n",
    "max_iters=200000\n",
    "while(loss>=0.0008 and iters<max_iters):\n",
    "    loss=Lossfunction(weights,xtrain,ytrain)\n",
    "    loss_CD.append(loss)\n",
    "    weights=WeightUpdateCD(weights,xtrain,ytrain,stepsize=0.01)\n",
    "    diff=np.mean(np.abs((weights-prev_weights)))\n",
    "    prev_weights=np.copy(weights)\n",
    "    ypred= Predict(weights,xtest)\n",
    "    iters+=1\n",
    "    #print(loss)\n",
    "ypred= Predict(weights,xtest)\n",
    "print(classification_report(ytest,ypred))\n",
    "print(\"Final loss= {0}\".format(loss))\n",
    "print(\"required epochs for greedy coordinate descent={0}\".format(iters))"
   ]
  }
 ],
 "metadata": {
  "kernelspec": {
   "display_name": "Python 3",
   "language": "python",
   "name": "python3"
  },
  "language_info": {
   "codemirror_mode": {
    "name": "ipython",
    "version": 3
   },
   "file_extension": ".py",
   "mimetype": "text/x-python",
   "name": "python",
   "nbconvert_exporter": "python",
   "pygments_lexer": "ipython3",
   "version": "3.8.8"
  }
 },
 "nbformat": 4,
 "nbformat_minor": 5
}
